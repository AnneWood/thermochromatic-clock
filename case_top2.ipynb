{
 "cells": [
  {
   "cell_type": "code",
   "execution_count": 1,
   "metadata": {
    "scrolled": false
   },
   "outputs": [
    {
     "data": {
      "image/svg+xml": [
       "<?xml version=\"1.0\" encoding=\"UTF-8\"?>\n",
       "<svg xmlns=\"http://www.w3.org/2000/svg\" xmlns:xlink=\"http://www.w3.org/1999/xlink\"\n",
       "     width=\"504\" height=\"360\" viewBox=\"-3.5 -2.5 7 5\">\n",
       "<defs>\n",
       "</defs>\n",
       "<g stroke-width=\"0.01\" fill=\"none\" stroke=\"black\" transform=\"translate(0 1.4914225115941997)\">\n",
       "<path d=\"M3.3583658628323487,0.42482748840580076 A7.0594830991986255,7.0594830991986255,0,0,0,-3.3583658628323487,0.42482748840580076\" stroke=\"red\" />\n",
       "<path d=\"M3.348227227661661,0.46482783684806694 A7.0194830991986255,7.0194830991986255,0,0,0,-3.3482272276616616,0.46482783684806694\" />\n",
       "<path d=\"M3.3531068507599984,0.4648304859186312 A3.3851725115941997,3.3851725115941997,0,0,0,3.3714544242360587,-0.3044470373514693\" />\n",
       "<path d=\"M3.3714544242360587,-0.30444703735146933 L3.433701148972554,-0.3100680034231529\" />\n",
       "<path d=\"M3.433701148972554,-0.3100680034231529 A3.4476725115941997,3.4476725115941997,0,0,0,3.2749628267867563,-1.0775269047068643\" />\n",
       "<path d=\"M3.2155937376444914,-1.0579933117343003 L3.2749628267867563,-1.0775269047068645\" />\n",
       "<path d=\"M3.2155937376444914,-1.0579933117343001 A3.3851725115941997,3.3851725115941997,0,0,0,2.8935783535157205,-1.756871436764294\" />\n",
       "<path d=\"M2.8935783535157205,-1.756871436764294 L2.947002114483685,-1.7893083257032443\" />\n",
       "<path d=\"M2.9470021144836847,-1.7893083257032447 A3.4476725115941997,3.4476725115941997,0,0,0,2.4667652488714507,-2.40863342046116\" />\n",
       "<path d=\"M2.4220473043636717,-2.3649692997325897 L2.4667652488714507,-2.40863342046116\" />\n",
       "<path d=\"M2.4220473043636717,-2.3649692997325897 A3.3851725115941997,3.3851725115941997,0,0,0,1.8253653281631892,-2.850865544355376\" />\n",
       "<path d=\"M1.8253653281631892,-2.850865544355376 L1.8590668109146464,-2.9035007042805936\" />\n",
       "<path d=\"M1.8590668109146464,-2.9035007042805936 A3.4476725115941997,3.4476725115941997,0,0,0,1.1553075179894998,-3.248339619879547\" />\n",
       "<path d=\"M1.1343639046876217,-3.189453160809049 L1.1553075179894998,-3.248339619879547\" />\n",
       "<path d=\"M1.1343639046876217,-3.189453160809049 A3.3851725115941997,3.3851725115941997,0,0,0,0.38474814530450985,-3.363236803726095\" />\n",
       "<path d=\"M0.38474814530450985,-3.363236803726095 L0.3918517002929696,-3.4253318076034276\" />\n",
       "<path d=\"M0.3918517002929696,-3.4253318076034276 A3.4476725115941997,3.4476725115941997,0,0,0,-0.3918517002929692,-3.425331807603428\" />\n",
       "<path d=\"M-0.3847481453045094,-3.3632368037260956 L-0.3918517002929692,-3.425331807603428\" />\n",
       "<path d=\"M-0.3847481453045094,-3.3632368037260956 A3.3851725115941997,3.3851725115941997,0,0,0,-1.1343639046876206,-3.1894531608090495\" />\n",
       "<path d=\"M-1.1343639046876215,-3.189453160809049 L-1.1553075179894996,-3.248339619879547\" />\n",
       "<path d=\"M-1.1553075179894987,-3.2483396198795473 A3.4476725115941997,3.4476725115941997,0,0,0,-1.859066810914646,-2.9035007042805936\" />\n",
       "<path d=\"M-1.8253653281631887,-2.850865544355376 L-1.859066810914646,-2.9035007042805936\" />\n",
       "<path d=\"M-1.8253653281631887,-2.850865544355376 A3.3851725115941997,3.3851725115941997,0,0,0,-2.4220473043636703,-2.3649692997325906\" />\n",
       "<path d=\"M-2.4220473043636717,-2.3649692997325897 L-2.4667652488714507,-2.40863342046116\" />\n",
       "<path d=\"M-2.4667652488714498,-2.408633420461161 A3.4476725115941997,3.4476725115941997,0,0,0,-2.947002114483684,-1.7893083257032454\" />\n",
       "<path d=\"M-2.8935783535157196,-1.756871436764295 L-2.947002114483684,-1.7893083257032454\" />\n",
       "<path d=\"M-2.8935783535157196,-1.756871436764295 A3.3851725115941997,3.3851725115941997,0,0,0,-3.215593737644491,-1.0579933117343012\" />\n",
       "<path d=\"M-3.215593737644491,-1.0579933117343012 L-3.274962826786756,-1.0775269047068654\" />\n",
       "<path d=\"M-3.274962826786756,-1.0775269047068654 A3.4476725115941997,3.4476725115941997,0,0,0,-3.433701148972554,-0.31006800342315355\" />\n",
       "<path d=\"M-3.3714544242360587,-0.30444703735146994 L-3.433701148972554,-0.31006800342315355\" />\n",
       "<path d=\"M-3.3714544242360587,-0.30444703735146994 A3.3851725115941997,3.3851725115941997,0,0,0,-3.3531068507599984,0.4648304859186295\" />\n",
       "</g>\n",
       "</svg>"
      ],
      "text/plain": [
       "<drawSvg.drawing.Drawing at 0x7f3fe45f51d0>"
      ]
     },
     "execution_count": 1,
     "metadata": {},
     "output_type": "execute_result"
    }
   ],
   "source": [
    "import drawSvg as draw\n",
    "import math\n",
    "from scipy.optimize import newton\n",
    "from sympy.solvers import solve\n",
    "from sympy import Symbol, asin\n",
    "\n",
    "DRAWING_HEIGHT = 5\n",
    "DRAWING_WIDTH = 7\n",
    "\n",
    "d = draw.Drawing(DRAWING_WIDTH, DRAWING_HEIGHT, origin='center')\n",
    "g = draw.Group(stroke_width=0.01, fill=\"none\", stroke=\"black\")\n",
    "\n",
    "\n",
    "\n",
    "    \n",
    "    \n",
    "    \n",
    "    \n",
    "    \n",
    "    \n",
    "    \n",
    "    \n",
    "    \n",
    "\n",
    "\n",
    "material_thickness = 1/16\n",
    "gap = 0.04\n",
    "\n",
    "def height_length_to_radius(h, l):\n",
    "    return newton(\n",
    "        lambda r: math.cos(l/(2*r)) - ((r-h)/r),\n",
    "        l/math.pi\n",
    "    )\n",
    "\n",
    "def radius_height_to_width(r, s):\n",
    "    return math.sqrt( (2*s*r) - s**2 ) * 2\n",
    "\n",
    "def height_width_to_radius(h, w):\n",
    "    return -( (-(w/2)**2 - h**2) / (2 * h) )\n",
    "\n",
    "def radius_width_to_length(r, w):\n",
    "    angle = 2 * math.asin((w / 2) / r)\n",
    "    return angle * r\n",
    "\n",
    "def radius_height_to_angle(r, h):\n",
    "    return \n",
    "\n",
    "class PaperArc:\n",
    "    length = 7 # Input\n",
    "    height = 0.85 # Input\n",
    "    radius = height_length_to_radius(height, length)\n",
    "    width = radius_height_to_width(radius, height)\n",
    "    angle = math.degrees(length / radius)\n",
    "    \n",
    "    \n",
    "class InnerEdgeArc:\n",
    "    height = 3 - gap # Input\n",
    "    width = PaperArc.width # Input\n",
    "    radius = height_width_to_radius(height, width)\n",
    "    length = radius_width_to_length(radius, width)\n",
    "    \n",
    "    # angle based on self.radius, self.height = height + PaperArc.height + gap\n",
    "    angle = 195.78486\n",
    "\n",
    "    \n",
    "class FaceArc:\n",
    "    radius = PaperArc.radius - gap # Input\n",
    "    height = PaperArc.height # Input\n",
    "    length = 6.98056\n",
    "    width = 6.69645\n",
    "    angle = 56.97807\n",
    "\n",
    "    \n",
    "class OuterEdgeArc:\n",
    "    radius = InnerEdgeArc.radius + material_thickness # Input\n",
    "    height = InnerEdgeArc.height + gap + PaperArc.height + material_thickness # Input\n",
    "    length = 11.76367\n",
    "    width =  6.83238\n",
    "    angle = 195.49693\n",
    "\n",
    "    \n",
    "def hypotenuse_angle_to_base_height(hypotenuse, angle):\n",
    "    base = hypotenuse * math.cos(math.radians(angle))\n",
    "    height = hypotenuse * math.sin(math.radians(angle))\n",
    "    return(base, height)\n",
    "    \n",
    "Y_OFFSET = -(PaperArc.radius - InnerEdgeArc.radius + InnerEdgeArc.height)\n",
    "\n",
    "paper = draw.Path(stroke=\"red\")\n",
    "paper.arc(0, Y_OFFSET, PaperArc.radius, \n",
    "          90 - (PaperArc.angle / 2), \n",
    "          90 + (PaperArc.angle / 2))\n",
    "g.append(paper)\n",
    "\n",
    "face = draw.Path()\n",
    "face.arc(0, Y_OFFSET, FaceArc.radius, \n",
    "          90 - (FaceArc.angle / 2), \n",
    "          90 + (FaceArc.angle / 2))\n",
    "g.append(face)\n",
    "\n",
    "\n",
    "TAB_COUNT = 15\n",
    "DEGREES = InnerEdgeArc.angle / TAB_COUNT\n",
    "for i in range(15):\n",
    "    radius = InnerEdgeArc.radius if i % 2 == 0 else OuterEdgeArc.radius\n",
    "    angle_start = 90 - DEGREES/2 + (DEGREES * (-(math.floor(TAB_COUNT/2)) + i))\n",
    "    angle_end = 90 + DEGREES/2 + (DEGREES * (-(math.floor(TAB_COUNT/2)) + i))\n",
    "    \n",
    "    p = draw.Path()\n",
    "    p.arc(0, 0, radius, angle_start, angle_end)\n",
    "    g.append(p)\n",
    "    \n",
    "    if i < TAB_COUNT - 1:\n",
    "        g.append(\n",
    "            draw.Line(\n",
    "                hypotenuse_angle_to_base_height(InnerEdgeArc.radius, angle_end)[0], \n",
    "                hypotenuse_angle_to_base_height(InnerEdgeArc.radius, angle_end)[1],\n",
    "                hypotenuse_angle_to_base_height(OuterEdgeArc.radius, angle_end)[0], \n",
    "                hypotenuse_angle_to_base_height(OuterEdgeArc.radius, angle_end)[1], \n",
    "            )\n",
    "        )\n",
    "\n",
    "# Center the shape\n",
    "g.args['transform'] = \"translate(0 {})\".format(\n",
    "    -((OuterEdgeArc.height - OuterEdgeArc.radius) - \n",
    "      OuterEdgeArc.height/2)\n",
    ")\n",
    "\n",
    "d.append(g)\n",
    "\n",
    "d.setPixelScale(72)  # Set number of pixels per geometry unit\n",
    "d.saveSvg('output.svg')\n",
    "# Display in iPython notebook\n",
    "d.rasterize()  # Display as PNG\n",
    "d  # Display as SVG"
   ]
  },
  {
   "cell_type": "code",
   "execution_count": 12,
   "metadata": {},
   "outputs": [
    {
     "data": {
      "text/plain": [
       "9.782236353518902"
      ]
     },
     "execution_count": 12,
     "metadata": {},
     "output_type": "execute_result"
    }
   ],
   "source": [
    "radius_width_to_length(InnerEdgeArc.radius, InnerEdgeArc.width)"
   ]
  },
  {
   "cell_type": "code",
   "execution_count": 46,
   "metadata": {},
   "outputs": [
    {
     "name": "stdout",
     "output_type": "stream",
     "text": [
      "0.000655318997575538\n",
      "7.1\n"
     ]
    }
   ],
   "source": [
    "tries = []\n",
    "rs = []\n",
    "r = 6.9\n",
    "for _ in range(10000):\n",
    "    res = f(r)\n",
    "    if res > 0:\n",
    "        tries.append(res)\n",
    "        rs.append(r)\n",
    "        break\n",
    "    r += 0.1\n",
    "    \n",
    "print(min(tries))\n",
    "i = (int(tries.index(min(tries))))\n",
    "print(rs[i])"
   ]
  },
  {
   "cell_type": "code",
   "execution_count": 28,
   "metadata": {},
   "outputs": [
    {
     "data": {
      "text/plain": [
       "1"
      ]
     },
     "execution_count": 28,
     "metadata": {},
     "output_type": "execute_result"
    }
   ],
   "source": [
    "len(tries)"
   ]
  },
  {
   "cell_type": "code",
   "execution_count": 19,
   "metadata": {},
   "outputs": [],
   "source": [
    "y = [1, 2, None]"
   ]
  },
  {
   "cell_type": "code",
   "execution_count": 21,
   "metadata": {},
   "outputs": [
    {
     "data": {
      "text/plain": [
       "[1, 2]"
      ]
     },
     "execution_count": 21,
     "metadata": {},
     "output_type": "execute_result"
    }
   ],
   "source": [
    "[x for x in y if x]"
   ]
  },
  {
   "cell_type": "code",
   "execution_count": 10,
   "metadata": {},
   "outputs": [],
   "source": [
    "def radius_sagitta_chord(r=None, s=None, c=None):\n",
    "    \"\"\"\n",
    "    Calcautes the sagitta, radius or chord of an arc given any two\n",
    "    of these values\n",
    "    \"\"\"\n",
    "    if len([x for x in [r, s, c] if x]) != 2:\n",
    "        raise Exception('2 inputs are required')\n",
    "        \n",
    "    if s is None:\n",
    "        s = Symbol('s')\n",
    "        val_name = 'sagitta'\n",
    "    elif r is None:\n",
    "        r = Symbol('r')\n",
    "        val_name = 'radius'\n",
    "    elif c is None:\n",
    "        c = Symbol('c')\n",
    "        val_name = 'chord'\n",
    "\n",
    "    val = abs(\n",
    "        float(solve(r - (r**2 - (c/2)**2)**(1/2) - s)[0])\n",
    "    )\n",
    "    return val\n"
   ]
  },
  {
   "cell_type": "code",
   "execution_count": 15,
   "metadata": {},
   "outputs": [
    {
     "ename": "IndexError",
     "evalue": "list index out of range",
     "output_type": "error",
     "traceback": [
      "\u001b[0;31m---------------------------------------------------------------------------\u001b[0m",
      "\u001b[0;31mIndexError\u001b[0m                                Traceback (most recent call last)",
      "\u001b[0;32m<ipython-input-15-ff72c9e9d392>\u001b[0m in \u001b[0;36m<module>\u001b[0;34m\u001b[0m\n\u001b[0;32m----> 1\u001b[0;31m \u001b[0mx\u001b[0m \u001b[0;34m=\u001b[0m \u001b[0mradius_sagitta_chord\u001b[0m\u001b[0;34m(\u001b[0m\u001b[0ms\u001b[0m\u001b[0;34m=\u001b[0m\u001b[0;36m3.85\u001b[0m\u001b[0;34m,\u001b[0m \u001b[0mr\u001b[0m\u001b[0;34m=\u001b[0m\u001b[0;36m3.3852\u001b[0m\u001b[0;34m)\u001b[0m\u001b[0;34m\u001b[0m\u001b[0;34m\u001b[0m\u001b[0m\n\u001b[0m",
      "\u001b[0;32m<ipython-input-10-9532e83b38ff>\u001b[0m in \u001b[0;36mradius_sagitta_chord\u001b[0;34m(r, s, c)\u001b[0m\n\u001b[1;32m     18\u001b[0m \u001b[0;34m\u001b[0m\u001b[0m\n\u001b[1;32m     19\u001b[0m     val = abs(\n\u001b[0;32m---> 20\u001b[0;31m         \u001b[0mfloat\u001b[0m\u001b[0;34m(\u001b[0m\u001b[0msolve\u001b[0m\u001b[0;34m(\u001b[0m\u001b[0mr\u001b[0m \u001b[0;34m-\u001b[0m \u001b[0;34m(\u001b[0m\u001b[0mr\u001b[0m\u001b[0;34m**\u001b[0m\u001b[0;36m2\u001b[0m \u001b[0;34m-\u001b[0m \u001b[0;34m(\u001b[0m\u001b[0mc\u001b[0m\u001b[0;34m/\u001b[0m\u001b[0;36m2\u001b[0m\u001b[0;34m)\u001b[0m\u001b[0;34m**\u001b[0m\u001b[0;36m2\u001b[0m\u001b[0;34m)\u001b[0m\u001b[0;34m**\u001b[0m\u001b[0;34m(\u001b[0m\u001b[0;36m1\u001b[0m\u001b[0;34m/\u001b[0m\u001b[0;36m2\u001b[0m\u001b[0;34m)\u001b[0m \u001b[0;34m-\u001b[0m \u001b[0ms\u001b[0m\u001b[0;34m)\u001b[0m\u001b[0;34m[\u001b[0m\u001b[0;36m0\u001b[0m\u001b[0;34m]\u001b[0m\u001b[0;34m)\u001b[0m\u001b[0;34m\u001b[0m\u001b[0;34m\u001b[0m\u001b[0m\n\u001b[0m\u001b[1;32m     21\u001b[0m     )\n\u001b[1;32m     22\u001b[0m     \u001b[0;32mreturn\u001b[0m \u001b[0mval\u001b[0m\u001b[0;34m\u001b[0m\u001b[0;34m\u001b[0m\u001b[0m\n",
      "\u001b[0;31mIndexError\u001b[0m: list index out of range"
     ]
    }
   ],
   "source": [
    "x = radius_sagitta_chord(s=3.85, r=3.3852)"
   ]
  },
  {
   "cell_type": "code",
   "execution_count": 14,
   "metadata": {},
   "outputs": [
    {
     "data": {
      "text/plain": [
       "1.7320508075688772"
      ]
     },
     "execution_count": 14,
     "metadata": {},
     "output_type": "execute_result"
    }
   ],
   "source": [
    "x"
   ]
  },
  {
   "cell_type": "code",
   "execution_count": 31,
   "metadata": {},
   "outputs": [],
   "source": [
    "def arc_circ_chord_radius(circ=None, c=None, r=None):\n",
    "    if circ is None:\n",
    "        chord = Symbol('circ')\n",
    "    elif r is None:\n",
    "        r = Symbol('r')\n",
    "    elif c is None:\n",
    "        c = Symbol('c')\n",
    "\n",
    "    return float(solve((2 * asin(3.358345 / 7.059)) -x , x)[0])\n",
    "\n",
    "\n",
    "    \n",
    "        "
   ]
  },
  {
   "cell_type": "code",
   "execution_count": 32,
   "metadata": {},
   "outputs": [
    {
     "ename": "TypeError",
     "evalue": "unsupported operand type(s) for -: 'Float' and 'dict'",
     "output_type": "error",
     "traceback": [
      "\u001b[0;31m---------------------------------------------------------------------------\u001b[0m",
      "\u001b[0;31mTypeError\u001b[0m                                 Traceback (most recent call last)",
      "\u001b[0;32m<ipython-input-32-12973678dd2b>\u001b[0m in \u001b[0;36m<module>\u001b[0;34m\u001b[0m\n\u001b[0;32m----> 1\u001b[0;31m \u001b[0marc_circ_chord_radius\u001b[0m\u001b[0;34m(\u001b[0m\u001b[0;34m)\u001b[0m\u001b[0;34m\u001b[0m\u001b[0;34m\u001b[0m\u001b[0m\n\u001b[0m",
      "\u001b[0;32m<ipython-input-31-d005c78a62e9>\u001b[0m in \u001b[0;36marc_circ_chord_radius\u001b[0;34m(circ, c, r)\u001b[0m\n\u001b[1;32m      7\u001b[0m         \u001b[0mc\u001b[0m \u001b[0;34m=\u001b[0m \u001b[0mSymbol\u001b[0m\u001b[0;34m(\u001b[0m\u001b[0;34m'c'\u001b[0m\u001b[0;34m)\u001b[0m\u001b[0;34m\u001b[0m\u001b[0;34m\u001b[0m\u001b[0m\n\u001b[1;32m      8\u001b[0m \u001b[0;34m\u001b[0m\u001b[0m\n\u001b[0;32m----> 9\u001b[0;31m     \u001b[0;32mreturn\u001b[0m \u001b[0mfloat\u001b[0m\u001b[0;34m(\u001b[0m\u001b[0msolve\u001b[0m\u001b[0;34m(\u001b[0m\u001b[0;34m(\u001b[0m\u001b[0;36m2\u001b[0m \u001b[0;34m*\u001b[0m \u001b[0masin\u001b[0m\u001b[0;34m(\u001b[0m\u001b[0;36m3.358345\u001b[0m \u001b[0;34m/\u001b[0m \u001b[0;36m7.059\u001b[0m\u001b[0;34m)\u001b[0m\u001b[0;34m)\u001b[0m \u001b[0;34m-\u001b[0m\u001b[0mx\u001b[0m \u001b[0;34m,\u001b[0m \u001b[0mx\u001b[0m\u001b[0;34m)\u001b[0m\u001b[0;34m[\u001b[0m\u001b[0;36m0\u001b[0m\u001b[0;34m]\u001b[0m\u001b[0;34m)\u001b[0m\u001b[0;34m\u001b[0m\u001b[0;34m\u001b[0m\u001b[0m\n\u001b[0m\u001b[1;32m     10\u001b[0m \u001b[0;34m\u001b[0m\u001b[0m\n\u001b[1;32m     11\u001b[0m \u001b[0;34m\u001b[0m\u001b[0m\n",
      "\u001b[0;31mTypeError\u001b[0m: unsupported operand type(s) for -: 'Float' and 'dict'"
     ]
    }
   ],
   "source": [
    "arc_circ_chord_radius()"
   ]
  },
  {
   "cell_type": "code",
   "execution_count": 101,
   "metadata": {},
   "outputs": [],
   "source": [
    "from sympy import sin, cos, asin, symbols"
   ]
  },
  {
   "cell_type": "code",
   "execution_count": 103,
   "metadata": {},
   "outputs": [
    {
     "data": {
      "text/plain": [
       "[(-3*pi/4, 3*pi/4), (-pi/4, pi/4), (pi/4, 3*pi/4), (3*pi/4, pi/4)]"
      ]
     },
     "execution_count": 103,
     "metadata": {},
     "output_type": "execute_result"
    }
   ],
   "source": [
    "solve([sin(x + y), cos(x - y)], [x, y])"
   ]
  },
  {
   "cell_type": "code",
   "execution_count": 102,
   "metadata": {},
   "outputs": [],
   "source": [
    "x, y, z, t = symbols('x y z t')"
   ]
  },
  {
   "cell_type": "code",
   "execution_count": null,
   "metadata": {},
   "outputs": [],
   "source": [
    "'radius, chord, angle, sagitta'"
   ]
  },
  {
   "cell_type": "code",
   "execution_count": 16,
   "metadata": {},
   "outputs": [
    {
     "name": "stdout",
     "output_type": "stream",
     "text": [
      "dict_keys(['one', 'three'])\n"
     ]
    }
   ],
   "source": [
    "def t(**kwargs):\n",
    "    print(kwargs.keys())\n",
    "    \n",
    "t(one=2, three=4)"
   ]
  },
  {
   "cell_type": "code",
   "execution_count": 26,
   "metadata": {},
   "outputs": [
    {
     "data": {
      "text/plain": [
       "{2}"
      ]
     },
     "execution_count": 26,
     "metadata": {},
     "output_type": "execute_result"
    }
   ],
   "source": [
    "s = {1, 2,3}\n",
    "s.difference({1, 3})\n"
   ]
  },
  {
   "cell_type": "code",
   "execution_count": 21,
   "metadata": {},
   "outputs": [],
   "source": [
    "x = {'1': 2}"
   ]
  },
  {
   "cell_type": "code",
   "execution_count": 35,
   "metadata": {},
   "outputs": [],
   "source": []
  },
  {
   "cell_type": "code",
   "execution_count": null,
   "metadata": {},
   "outputs": [
    {
     "name": "stdout",
     "output_type": "stream",
     "text": [
      "('radius', 'sagitta')\n",
      "('radius', 'length')\n",
      "('radius', 'chord')\n",
      "('radius', 'angle')\n",
      "('sagitta', 'length')\n",
      "('sagitta', 'chord')\n",
      "('sagitta', 'angle')\n",
      "('length', 'chord')\n",
      "('length', 'angle')\n"
     ]
    }
   ],
   "source": [
    "from itertools import combinations\n",
    "t = {\n",
    "    'radius': 3.25,\n",
    "    'length': 5.2397,\n",
    "    'chord': 4.6904,\n",
    "    'sagitta': 1,\n",
    "    'angle': 1.6122\n",
    "}\n",
    "\n",
    "\n",
    "for x in list(combinations(CircleArc.fields, 2)):\n",
    "    print(x)\n",
    "    c = CircleArc(**{x[0]: t[x[0]], x[1]: t[x[1]]})\n",
    "    try:\n",
    "        assert math.isclose(t['radius'], c.results['radius'], rel_tol=.003)\n",
    "        assert math.isclose(t['length'], c.results['length'], rel_tol=.003)\n",
    "        assert math.isclose(t['chord'], c.results['chord'], rel_tol=.003)\n",
    "        assert math.isclose(t['sagitta'], c.results['sagitta'], rel_tol=.003)\n",
    "        assert math.isclose(t['angle'], c.results['angle'], rel_tol=.003)\n",
    "    except Exception as e:\n",
    "        print(c.results)\n",
    "        raise e\n",
    "    \n",
    "    \n",
    "\n"
   ]
  },
  {
   "cell_type": "code",
   "execution_count": 23,
   "metadata": {},
   "outputs": [
    {
     "data": {
      "text/plain": [
       "3.0"
      ]
     },
     "execution_count": 23,
     "metadata": {},
     "output_type": "execute_result"
    }
   ],
   "source": [
    "radius = 3.25\n",
    "sagitta = 2\n",
    "math.sqrt((2*radius*sagitta)-sagitta*2)"
   ]
  }
 ],
 "metadata": {
  "kernelspec": {
   "display_name": "Python 3",
   "language": "python",
   "name": "python3"
  },
  "language_info": {
   "codemirror_mode": {
    "name": "ipython",
    "version": 3
   },
   "file_extension": ".py",
   "mimetype": "text/x-python",
   "name": "python",
   "nbconvert_exporter": "python",
   "pygments_lexer": "ipython3",
   "version": "3.6.8"
  }
 },
 "nbformat": 4,
 "nbformat_minor": 2
}
